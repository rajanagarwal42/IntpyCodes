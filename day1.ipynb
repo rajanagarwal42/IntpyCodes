{
 "cells": [
  {
   "cell_type": "markdown",
   "id": "386662c5",
   "metadata": {},
   "source": [
    "# Day 1: Python"
   ]
  },
  {
   "cell_type": "markdown",
   "id": "574c9952",
   "metadata": {},
   "source": [
    "Visualize Python: https://pythontutor.com/visualize.html#mode=edit"
   ]
  },
  {
   "cell_type": "code",
   "execution_count": null,
   "id": "921ec452",
   "metadata": {},
   "outputs": [],
   "source": [
    "#What will this script produce?\n",
    "a = 1\n",
    "a = 2\n",
    "a = 3\n",
    "print(a)\n",
    "\n",
    "3"
   ]
  },
  {
   "cell_type": "code",
   "execution_count": null,
   "id": "72f2ce0c",
   "metadata": {},
   "outputs": [],
   "source": [
    "#The script generates an error. Please add the appropriate code that adds variables a and b without an error.\n",
    "a = \"1\"\n",
    "b = 2\n",
    "print(a + b)\n",
    "\n",
    "#Code\n",
    "print(int(a) + b)"
   ]
  },
  {
   "cell_type": "code",
   "execution_count": 5,
   "id": "41bcff56",
   "metadata": {},
   "outputs": [
    {
     "name": "stdout",
     "output_type": "stream",
     "text": [
      "b\n"
     ]
    }
   ],
   "source": [
    "#Complete the script so that it prints out the second letter of the list\n",
    "letters = [\"a\", \"b\", \"c\", \"d\", \"e\", \"f\", \"g\", \"h\", \"i\", \"j\"]\n",
    "\n",
    "#Code\n",
    "print(letters[1])\n"
   ]
  },
  {
   "cell_type": "code",
   "execution_count": null,
   "id": "ced72e9a",
   "metadata": {},
   "outputs": [],
   "source": [
    "#Complete the script so that it prints out a list containing letters d, e, f.\n",
    "letters = [\"a\", \"b\", \"c\", \"d\", \"e\", \"f\", \"g\", \"h\", \"i\", \"j\"]\n",
    "\n",
    "#Code\n",
    "print(letters[3:6])\n"
   ]
  },
  {
   "cell_type": "code",
   "execution_count": 4,
   "id": "656da0cc",
   "metadata": {},
   "outputs": [
    {
     "name": "stdout",
     "output_type": "stream",
     "text": [
      "['a', 'b', 'c']\n"
     ]
    }
   ],
   "source": [
    "#Complete the script so that it prints out a list containing the first three elements of list letters\n",
    "letters = [\"a\", \"b\", \"c\", \"d\", \"e\", \"f\", \"g\", \"h\", \"i\", \"j\"]\n",
    "\n",
    "#Code\n",
    "print(letters[:3])"
   ]
  },
  {
   "cell_type": "code",
   "execution_count": 3,
   "id": "517e5246",
   "metadata": {},
   "outputs": [
    {
     "name": "stdout",
     "output_type": "stream",
     "text": [
      "i\n"
     ]
    }
   ],
   "source": [
    "#Complete the script so that it prints out the letter i using negative indexing\n",
    "letters = [\"a\", \"b\", \"c\", \"d\", \"e\", \"f\", \"g\", \"h\", \"i\", \"j\"]\n",
    "\n",
    "#Code\n",
    "print(letters[-2])"
   ]
  },
  {
   "cell_type": "code",
   "execution_count": 2,
   "id": "30df767b",
   "metadata": {},
   "outputs": [
    {
     "name": "stdout",
     "output_type": "stream",
     "text": [
      "['h', 'i', 'j']\n"
     ]
    }
   ],
   "source": [
    "#Complete the script so that it prints out a list containing the last three elements of list letters\n",
    "letters = [\"a\", \"b\", \"c\", \"d\", \"e\", \"f\", \"g\", \"h\", \"i\", \"j\"]\n",
    "\n",
    "#Code\n",
    "print(letters[-3:])"
   ]
  },
  {
   "cell_type": "code",
   "execution_count": 1,
   "id": "62376a36",
   "metadata": {},
   "outputs": [
    {
     "name": "stdout",
     "output_type": "stream",
     "text": [
      "['a', 'c', 'e', 'g', 'i']\n"
     ]
    }
   ],
   "source": [
    "#Complete the script so that it prints out a list containing letters a, c, e, g, and i so the at a step of two\n",
    "letters = [\"a\", \"b\", \"c\", \"d\", \"e\", \"f\", \"g\", \"h\", \"i\", \"j\"]\n",
    "\n",
    "#Code \n",
    "print(letters[0: :2])\n"
   ]
  },
  {
   "cell_type": "code",
   "execution_count": 7,
   "id": "4abe4147",
   "metadata": {},
   "outputs": [
    {
     "name": "stdout",
     "output_type": "stream",
     "text": [
      "[1, 2, 3, 4, 5, 6, 7, 8, 9, 10, 11, 12, 13, 14, 15, 16, 17, 18, 19, 20]\n"
     ]
    }
   ],
   "source": [
    "#Create a script that generates a list of numbers from 1 to 20. Do not create a list manually.\n",
    "\n",
    "lis = list(range(1,21))\n",
    "print(lis)\n"
   ]
  },
  {
   "cell_type": "code",
   "execution_count": 11,
   "id": "3764de23",
   "metadata": {},
   "outputs": [
    {
     "name": "stdout",
     "output_type": "stream",
     "text": [
      "[10, 20, 30, 40, 50, 60, 70, 80, 90, 100]\n"
     ]
    }
   ],
   "source": [
    "#Create a script that generates a list whose items are products of the original list items multiplied by 10\n",
    "lis = list(range(1,11))\n",
    "\n",
    "newlis = [i*10 for i in lis]\n",
    "print(newlis)\n"
   ]
  },
  {
   "cell_type": "code",
   "execution_count": 18,
   "id": "894c7f70",
   "metadata": {},
   "outputs": [
    {
     "name": "stdout",
     "output_type": "stream",
     "text": [
      "['1', '2', '3', '4', '5', '6', '7', '8', '9', '10', '11', '12', '13', '14', '15', '16', '17', '18', '19', '20']\n"
     ]
    }
   ],
   "source": [
    "#Create a script that converts all items of the range to strings\n",
    "my_range = range(1, 21)\n",
    "lis = []\n",
    "for i in my_range:\n",
    "    lis.append(str(i))\n",
    "print(lis)\n"
   ]
  },
  {
   "cell_type": "code",
   "execution_count": 14,
   "id": "e4ca7775",
   "metadata": {},
   "outputs": [
    {
     "name": "stdout",
     "output_type": "stream",
     "text": [
      "[1, 2, '1']\n",
      "[1, 2, '1']\n"
     ]
    }
   ],
   "source": [
    "#Write a script that remove duplicates from a list\n",
    "a = [\"1\", 1, \"1\", 2]\n",
    "\n",
    "#Code 1\n",
    "a = list(set(a))\n",
    "print(a)\n",
    "\n",
    "#Code 2\n",
    "# s = set()\n",
    "# lis = []\n",
    "# for val in a:\n",
    "#     if val not in s:\n",
    "#         lis.append(val)\n",
    "#         s.add(val)\n",
    "# print(lis)"
   ]
  },
  {
   "cell_type": "code",
   "execution_count": 21,
   "id": "8eb82355",
   "metadata": {},
   "outputs": [
    {
     "name": "stdout",
     "output_type": "stream",
     "text": [
      "{'a': 1, 'b': 2, 'c': 3}\n"
     ]
    }
   ],
   "source": [
    "#Add a c key with a value of 3 to the dictionary and print out the updated dictinary\n",
    "d = {\"a\": 1, \"b\": 2}\n",
    "\n",
    "d.update({\"c\" : 3})\n",
    "print(d)"
   ]
  },
  {
   "cell_type": "code",
   "execution_count": 24,
   "id": "f59d8d65",
   "metadata": {},
   "outputs": [
    {
     "name": "stdout",
     "output_type": "stream",
     "text": [
      "6\n",
      "6\n"
     ]
    }
   ],
   "source": [
    "#Find the sum of all values\n",
    "d = {\"a\": 1, \"b\": 2, \"c\": 3}\n",
    "#Code 1\n",
    "sum = 0\n",
    "for i in d.values():\n",
    "    sum += i\n",
    "print(sum)\n",
    "\n",
    "#Code 2\n",
    "# sum = 0\n",
    "# for key in d:\n",
    "#     sum += d.get(key)\n",
    "# print(sum)"
   ]
  },
  {
   "cell_type": "code",
   "execution_count": 26,
   "id": "75cdf7e1",
   "metadata": {},
   "outputs": [
    {
     "name": "stdout",
     "output_type": "stream",
     "text": [
      "{'b': 2, 'c': 3}\n"
     ]
    }
   ],
   "source": [
    "#Filter out values of equal or greater than 2\n",
    "d = {\"a\": 1, \"b\": 2, \"c\": 3}\n",
    "filterd = {}\n",
    "for key in d:\n",
    "    if d[key] >= 2:\n",
    "        filterd.update({key: d[key]})\n",
    "        \n",
    "print(filterd)"
   ]
  },
  {
   "cell_type": "code",
   "execution_count": 28,
   "id": "f1f81fb9",
   "metadata": {},
   "outputs": [
    {
     "name": "stdout",
     "output_type": "stream",
     "text": [
      "13\n"
     ]
    }
   ],
   "source": [
    "#Access the third value of key b.\n",
    "\n",
    "d = dict(a = list(range(1, 11)), b = list(range(11, 21)), c = list(range(21, 31)))\n",
    "print(d['b'][2])\n"
   ]
  },
  {
   "cell_type": "code",
   "execution_count": 30,
   "id": "e3171afd",
   "metadata": {},
   "outputs": [
    {
     "name": "stdout",
     "output_type": "stream",
     "text": [
      "a b c d e f g h i j k l m n o p q r s t u v w x y z "
     ]
    }
   ],
   "source": [
    "#Make a script that prints out letters of English alphabet from a to z\n",
    "a = ord('a');\n",
    "z = ord('z');\n",
    "for itr in range(a , z+1):\n",
    "    print(chr(itr), end = \" \")\n"
   ]
  },
  {
   "cell_type": "code",
   "execution_count": null,
   "id": "a05c43b7",
   "metadata": {},
   "outputs": [],
   "source": [
    "#Write a function that calculates acceleration given the formula:\n",
    "#a = (v2 - v1) / t2 - t1\n",
    "\n",
    "def calculate_acc(v1,v2,t1,t2):\n",
    "    return (v2 - v1)/(t2 -t1)"
   ]
  },
  {
   "cell_type": "code",
   "execution_count": null,
   "id": "63c922af",
   "metadata": {},
   "outputs": [],
   "source": [
    "#Why is the error and how to fix it?\n",
    "\n",
    "def foo(a, b):\n",
    "    print(a + b)\n",
    "\n",
    "x = foo(2, 3) * 10\n",
    "\n",
    "#Ans\n",
    "foo function does not return anything so x = None * 10 which is not suported so, do return (a + b) from foo.\n"
   ]
  },
  {
   "cell_type": "code",
   "execution_count": 46,
   "id": "a07b4c7d",
   "metadata": {},
   "outputs": [],
   "source": [
    "#Why do you get an error and how would you fix it?\n",
    "\n",
    "def foo(a=2, b):\n",
    "    return a + b\n",
    "\n",
    "print(foo(3, 4))\n",
    "\n",
    "#Ans \n",
    "Position of argument a is wrong. As, default arguments listed in the end.\n",
    "def foo(b, a=2):\n",
    "    return a + b\n",
    "\n"
   ]
  },
  {
   "cell_type": "code",
   "execution_count": 39,
   "id": "56b4e5d2",
   "metadata": {},
   "outputs": [
    {
     "name": "stdout",
     "output_type": "stream",
     "text": [
      "Emma25\n",
      "scientist50\n"
     ]
    }
   ],
   "source": [
    "# Write a program to find words with both alphabets and numbers from an input string.\n",
    "# Expected output:\n",
    "# Emma25\n",
    "# scientist50\n",
    "str1 = \"Emma25 is Data scientist50 and AI Expert\"\n",
    "\n",
    "words = str1.split(\" \");\n",
    "\n",
    "for word in words:\n",
    "    flag1 = False\n",
    "    flag2 = False\n",
    "    for ch in word:\n",
    "        if ch.isnumeric():\n",
    "            flag1 = True\n",
    "        elif ch.isalpha():\n",
    "            flag2 = True\n",
    "        if flag1 and flag2:\n",
    "            print(word)\n",
    "            break;"
   ]
  },
  {
   "cell_type": "code",
   "execution_count": 41,
   "id": "4dfcee93",
   "metadata": {},
   "outputs": [
    {
     "name": "stdout",
     "output_type": "stream",
     "text": [
      "Jon is developer musician\n"
     ]
    }
   ],
   "source": [
    "# Remove special symbols / punctuation from a string\n",
    "\n",
    "str1 = \"/*Jon is @developer & musician\"\n",
    "\n",
    "words = str1.split(\" \")\n",
    "ls = []\n",
    "for word in words:\n",
    "    str = ''\n",
    "    for ch in word:\n",
    "        if ch.isalpha():\n",
    "            str+=ch\n",
    "    if str != '':\n",
    "        ls.append(str)\n",
    "        \n",
    "str1 = (\" \").join(ls)\n",
    "print(str1)"
   ]
  },
  {
   "cell_type": "code",
   "execution_count": 42,
   "id": "469f53af",
   "metadata": {},
   "outputs": [
    {
     "name": "stdout",
     "output_type": "stream",
     "text": [
      "10\n",
      "2095.238095238095\n",
      "628.5714285714286\n"
     ]
    }
   ],
   "source": [
    "#Write a script that calculates liquid formula taken from http://www.1728.org/spherprt.gif\n",
    "#When writing the function consider that r is always 10.\n",
    "PI = 22/7\n",
    "\n",
    "def lqd_vol(hc,r):\n",
    "    return (4*PI*r**3)/3 - (PI*hc**2*(3*r-hc))/3\n",
    "    \n",
    "def lqd_area(hc,r):\n",
    "    return (4*PI*r**2) - (2*PI*r*hc)\n",
    "\n",
    "hc = int(input())\n",
    "r = 10\n",
    "print(lqd_vol(hc,r))\n",
    "print(lqd_area(hc,r))\n",
    "\n",
    "\n"
   ]
  },
  {
   "cell_type": "code",
   "execution_count": null,
   "id": "a1613104",
   "metadata": {},
   "outputs": [],
   "source": []
  }
 ],
 "metadata": {
  "kernelspec": {
   "display_name": "Python 3 (ipykernel)",
   "language": "python",
   "name": "python3"
  },
  "language_info": {
   "codemirror_mode": {
    "name": "ipython",
    "version": 3
   },
   "file_extension": ".py",
   "mimetype": "text/x-python",
   "name": "python",
   "nbconvert_exporter": "python",
   "pygments_lexer": "ipython3",
   "version": "3.8.9"
  }
 },
 "nbformat": 4,
 "nbformat_minor": 5
}
